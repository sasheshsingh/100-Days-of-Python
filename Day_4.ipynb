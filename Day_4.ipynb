{
 "cells": [
  {
   "cell_type": "code",
   "execution_count": 3,
   "metadata": {},
   "outputs": [
    {
     "name": "stdout",
     "output_type": "stream",
     "text": [
      "188\n"
     ]
    }
   ],
   "source": [
    "import random\n",
    "random_integer = random.randint(0, 199)\n",
    "print(random_integer)"
   ]
  },
  {
   "cell_type": "code",
   "execution_count": 4,
   "metadata": {},
   "outputs": [
    {
     "name": "stdout",
     "output_type": "stream",
     "text": [
      "104\n"
     ]
    }
   ],
   "source": [
    "import random\n",
    "random_integer = random.randint(0, 199)\n",
    "print(random_integer)"
   ]
  },
  {
   "cell_type": "code",
   "execution_count": 5,
   "metadata": {},
   "outputs": [
    {
     "name": "stdout",
     "output_type": "stream",
     "text": [
      "45\n"
     ]
    }
   ],
   "source": [
    "import random\n",
    "random_integer = random.randint(0, 199)\n",
    "print(random_integer)\n"
   ]
  },
  {
   "cell_type": "code",
   "execution_count": 6,
   "metadata": {},
   "outputs": [
    {
     "name": "stdout",
     "output_type": "stream",
     "text": [
      "147\n"
     ]
    }
   ],
   "source": [
    "import random\n",
    "random_integer = random.randint(0, 199)\n",
    "print(random_integer)\n"
   ]
  },
  {
   "cell_type": "code",
   "execution_count": 7,
   "metadata": {},
   "outputs": [
    {
     "name": "stdout",
     "output_type": "stream",
     "text": [
      "77\n"
     ]
    }
   ],
   "source": [
    "import random\n",
    "random_integer = random.randint(0, 199)\n",
    "print(random_integer)"
   ]
  },
  {
   "cell_type": "code",
   "execution_count": 8,
   "metadata": {},
   "outputs": [
    {
     "name": "stdout",
     "output_type": "stream",
     "text": [
      "134\n"
     ]
    }
   ],
   "source": [
    "import random\n",
    "random_integer = random.randint(0, 199)\n",
    "print(random_integer)\n"
   ]
  },
  {
   "cell_type": "code",
   "execution_count": 9,
   "metadata": {},
   "outputs": [
    {
     "name": "stdout",
     "output_type": "stream",
     "text": [
      "0.18478346939661938\n"
     ]
    }
   ],
   "source": [
    "random_float = random.random()\n",
    "print(random_float)"
   ]
  },
  {
   "cell_type": "code",
   "execution_count": 10,
   "metadata": {},
   "outputs": [
    {
     "name": "stdout",
     "output_type": "stream",
     "text": [
      "0.4962826812401473\n"
     ]
    }
   ],
   "source": [
    "random_float = random.random()\n",
    "print(random_float)"
   ]
  },
  {
   "cell_type": "code",
   "execution_count": 11,
   "metadata": {},
   "outputs": [
    {
     "name": "stdout",
     "output_type": "stream",
     "text": [
      "0.15930087039413987\n"
     ]
    }
   ],
   "source": [
    "random_float = random.random()\n",
    "print(random_float)"
   ]
  },
  {
   "cell_type": "code",
   "execution_count": 16,
   "metadata": {},
   "outputs": [
    {
     "name": "stdout",
     "output_type": "stream",
     "text": [
      "3.2683188174010844\n"
     ]
    }
   ],
   "source": [
    "random_float = random.random()*10\n",
    "print(random_float)"
   ]
  },
  {
   "cell_type": "code",
   "execution_count": 17,
   "metadata": {},
   "outputs": [],
   "source": [
    "rand_int = random.randint(1,100)"
   ]
  },
  {
   "cell_type": "code",
   "execution_count": 19,
   "metadata": {},
   "outputs": [
    {
     "name": "stdout",
     "output_type": "stream",
     "text": [
      "22\n"
     ]
    }
   ],
   "source": [
    "print(rand_int)"
   ]
  },
  {
   "cell_type": "code",
   "execution_count": 20,
   "metadata": {},
   "outputs": [
    {
     "name": "stdout",
     "output_type": "stream",
     "text": [
      "Heads\n"
     ]
    }
   ],
   "source": [
    "toss_result = random.randint(0, 1)\n",
    "if toss_result == 1:\n",
    "    print(\"Heads\")\n",
    "else:\n",
    "    print(\"Tails\")"
   ]
  },
  {
   "cell_type": "code",
   "execution_count": 21,
   "metadata": {},
   "outputs": [
    {
     "name": "stdout",
     "output_type": "stream",
     "text": [
      "Tails\n"
     ]
    }
   ],
   "source": [
    "toss_result = random.randint(0, 1)\n",
    "if toss_result == 1:\n",
    "    print(\"Heads\")\n",
    "else:\n",
    "    print(\"Tails\")"
   ]
  },
  {
   "cell_type": "code",
   "execution_count": 22,
   "metadata": {},
   "outputs": [
    {
     "name": "stdout",
     "output_type": "stream",
     "text": [
      "Tails\n"
     ]
    }
   ],
   "source": [
    "toss_result = random.randint(0, 1)\n",
    "if toss_result == 1:\n",
    "    print(\"Heads\")\n",
    "else:\n",
    "    print(\"Tails\")"
   ]
  },
  {
   "cell_type": "code",
   "execution_count": 23,
   "metadata": {},
   "outputs": [
    {
     "name": "stdout",
     "output_type": "stream",
     "text": [
      "Tails\n"
     ]
    }
   ],
   "source": [
    "toss_result = random.randint(0, 1)\n",
    "if toss_result == 1:\n",
    "    print(\"Heads\")\n",
    "else:\n",
    "    print(\"Tails\")"
   ]
  },
  {
   "cell_type": "code",
   "execution_count": 24,
   "metadata": {},
   "outputs": [
    {
     "name": "stdout",
     "output_type": "stream",
     "text": [
      "Heads\n"
     ]
    }
   ],
   "source": [
    "toss_result = random.randint(0, 1)\n",
    "if toss_result == 1:\n",
    "    print(\"Heads\")\n",
    "else:\n",
    "    print(\"Tails\")"
   ]
  },
  {
   "cell_type": "markdown",
   "metadata": {},
   "source": [
    "# List"
   ]
  },
  {
   "cell_type": "code",
   "execution_count": 1,
   "metadata": {},
   "outputs": [],
   "source": [
    "states_of_india = [\"Assam\", \"Arunanchal Pradesh\", \"Andhra Pradesh\", \"Bihar\", \"Chattisgarh\", \"Rajasthan\", \"Uttar Pradesh\", \"Uttarakhand\", \"Tamil Nadu\", \"Kerala\", \"Telangana\",\"Sikkim\", \"Meghalaya\", \"Tripura\", \"Manipur\", \"Gujarat\",\"Orissa\",\"Jammu and Kashmir\"]"
   ]
  },
  {
   "cell_type": "code",
   "execution_count": 2,
   "metadata": {},
   "outputs": [
    {
     "name": "stdout",
     "output_type": "stream",
     "text": [
      "Meghalaya\n"
     ]
    }
   ],
   "source": [
    "print(states_of_india[12])"
   ]
  },
  {
   "cell_type": "code",
   "execution_count": 3,
   "metadata": {},
   "outputs": [
    {
     "name": "stdout",
     "output_type": "stream",
     "text": [
      "Jammu and Kashmir\n"
     ]
    }
   ],
   "source": [
    "print(states_of_india[-1])"
   ]
  },
  {
   "cell_type": "code",
   "execution_count": 4,
   "metadata": {},
   "outputs": [],
   "source": [
    "states_of_india[0] = \"Punjab\""
   ]
  },
  {
   "cell_type": "code",
   "execution_count": 5,
   "metadata": {},
   "outputs": [
    {
     "name": "stdout",
     "output_type": "stream",
     "text": [
      "['Punjab', 'Arunanchal Pradesh', 'Andhra Pradesh', 'Bihar', 'Chattisgarh', 'Rajasthan', 'Uttar Pradesh', 'Uttarakhand', 'Tamil Nadu', 'Kerala', 'Telangana', 'Sikkim', 'Meghalaya', 'Tripura', 'Manipur', 'Gujarat', 'Orissa', 'Jammu and Kashmir']\n"
     ]
    }
   ],
   "source": [
    "print(states_of_india)"
   ]
  },
  {
   "cell_type": "code",
   "execution_count": 6,
   "metadata": {},
   "outputs": [],
   "source": [
    "states_of_india.append(\"Assam\")"
   ]
  },
  {
   "cell_type": "code",
   "execution_count": 7,
   "metadata": {},
   "outputs": [
    {
     "name": "stdout",
     "output_type": "stream",
     "text": [
      "['Punjab', 'Arunanchal Pradesh', 'Andhra Pradesh', 'Bihar', 'Chattisgarh', 'Rajasthan', 'Uttar Pradesh', 'Uttarakhand', 'Tamil Nadu', 'Kerala', 'Telangana', 'Sikkim', 'Meghalaya', 'Tripura', 'Manipur', 'Gujarat', 'Orissa', 'Jammu and Kashmir', 'Assam']\n"
     ]
    }
   ],
   "source": [
    "print(states_of_india)"
   ]
  },
  {
   "cell_type": "code",
   "execution_count": 8,
   "metadata": {},
   "outputs": [],
   "source": [
    "states_remained = [\"West Bengal\", \"Maharastra\", \"Jharkhand\"]\n"
   ]
  },
  {
   "cell_type": "code",
   "execution_count": 9,
   "metadata": {},
   "outputs": [
    {
     "name": "stdout",
     "output_type": "stream",
     "text": [
      "['Punjab', 'Arunanchal Pradesh', 'Andhra Pradesh', 'Bihar', 'Chattisgarh', 'Rajasthan', 'Uttar Pradesh', 'Uttarakhand', 'Tamil Nadu', 'Kerala', 'Telangana', 'Sikkim', 'Meghalaya', 'Tripura', 'Manipur', 'Gujarat', 'Orissa', 'Jammu and Kashmir', 'Assam']\n",
      "['Punjab', 'Arunanchal Pradesh', 'Andhra Pradesh', 'Bihar', 'Chattisgarh', 'Rajasthan', 'Uttar Pradesh', 'Uttarakhand', 'Tamil Nadu', 'Kerala', 'Telangana', 'Sikkim', 'Meghalaya', 'Tripura', 'Manipur', 'Gujarat', 'Orissa', 'Jammu and Kashmir', 'Assam', 'West Bengal', 'Maharastra', 'Jharkhand']\n"
     ]
    }
   ],
   "source": [
    "print(states_of_india)\n",
    "states_of_india.extend(states_remained)\n",
    "print(states_of_india)"
   ]
  },
  {
   "cell_type": "code",
   "execution_count": 12,
   "metadata": {},
   "outputs": [
    {
     "name": "stdout",
     "output_type": "stream",
     "text": [
      "22\n"
     ]
    }
   ],
   "source": [
    "print(len(states_of_india))"
   ]
  },
  {
   "cell_type": "code",
   "execution_count": 14,
   "metadata": {},
   "outputs": [],
   "source": [
    "list_comprehension = [states_of_india,states_of_india]"
   ]
  },
  {
   "cell_type": "code",
   "execution_count": 15,
   "metadata": {},
   "outputs": [
    {
     "name": "stdout",
     "output_type": "stream",
     "text": [
      "[['Punjab', 'Arunanchal Pradesh', 'Andhra Pradesh', 'Bihar', 'Chattisgarh', 'Rajasthan', 'Uttar Pradesh', 'Uttarakhand', 'Tamil Nadu', 'Kerala', 'Telangana', 'Sikkim', 'Meghalaya', 'Tripura', 'Manipur', 'Gujarat', 'Orissa', 'Jammu and Kashmir', 'Assam', 'West Bengal', 'Maharastra', 'Jharkhand'], ['Punjab', 'Arunanchal Pradesh', 'Andhra Pradesh', 'Bihar', 'Chattisgarh', 'Rajasthan', 'Uttar Pradesh', 'Uttarakhand', 'Tamil Nadu', 'Kerala', 'Telangana', 'Sikkim', 'Meghalaya', 'Tripura', 'Manipur', 'Gujarat', 'Orissa', 'Jammu and Kashmir', 'Assam', 'West Bengal', 'Maharastra', 'Jharkhand']]\n"
     ]
    }
   ],
   "source": [
    "print(list_comprehension)"
   ]
  },
  {
   "cell_type": "code",
   "execution_count": null,
   "metadata": {},
   "outputs": [],
   "source": []
  }
 ],
 "metadata": {
  "kernelspec": {
   "display_name": "Python 3",
   "language": "python",
   "name": "python3"
  },
  "language_info": {
   "codemirror_mode": {
    "name": "ipython",
    "version": 3
   },
   "file_extension": ".py",
   "mimetype": "text/x-python",
   "name": "python",
   "nbconvert_exporter": "python",
   "pygments_lexer": "ipython3",
   "version": "3.8.5"
  }
 },
 "nbformat": 4,
 "nbformat_minor": 4
}
