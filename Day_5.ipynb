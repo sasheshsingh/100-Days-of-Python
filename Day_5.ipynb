{
 "cells": [
  {
   "cell_type": "code",
   "execution_count": 2,
   "metadata": {},
   "outputs": [],
   "source": [
    "states = ['Punjab', 'Arunanchal Pradesh', 'Andhra Pradesh', 'Bihar', 'Chattisgarh', 'Rajasthan', 'Uttar Pradesh', 'Uttarakhand', 'Tamil Nadu', 'Kerala', 'Telangana', 'Sikkim', 'Meghalaya', 'Tripura', 'Manipur', 'Gujarat', 'Orissa', 'Jammu and Kashmir', 'Assam', 'West Bengal', 'Maharastra', 'Jharkhand']"
   ]
  },
  {
   "cell_type": "code",
   "execution_count": 5,
   "metadata": {},
   "outputs": [
    {
     "name": "stdout",
     "output_type": "stream",
     "text": [
      "Punjab\n",
      "Arunanchal Pradesh\n",
      "Andhra Pradesh\n",
      "Bihar\n",
      "Chattisgarh\n",
      "Rajasthan\n",
      "Uttar Pradesh\n",
      "Uttarakhand\n",
      "Tamil Nadu\n",
      "Kerala\n",
      "Telangana\n",
      "Sikkim\n",
      "Meghalaya\n",
      "Tripura\n",
      "Manipur\n",
      "Gujarat\n",
      "Orissa\n",
      "Jammu and Kashmir\n",
      "Assam\n",
      "West Bengal\n",
      "Maharastra\n",
      "Jharkhand\n"
     ]
    }
   ],
   "source": [
    "for state in states:\n",
    "    print(state)"
   ]
  },
  {
   "cell_type": "code",
   "execution_count": 6,
   "metadata": {},
   "outputs": [
    {
     "name": "stdout",
     "output_type": "stream",
     "text": [
      "Sate: Punjab\n",
      "Sate: Arunanchal Pradesh\n",
      "Sate: Andhra Pradesh\n",
      "Sate: Bihar\n",
      "Sate: Chattisgarh\n",
      "Sate: Rajasthan\n",
      "Sate: Uttar Pradesh\n",
      "Sate: Uttarakhand\n",
      "Sate: Tamil Nadu\n",
      "Sate: Kerala\n",
      "Sate: Telangana\n",
      "Sate: Sikkim\n",
      "Sate: Meghalaya\n",
      "Sate: Tripura\n",
      "Sate: Manipur\n",
      "Sate: Gujarat\n",
      "Sate: Orissa\n",
      "Sate: Jammu and Kashmir\n",
      "Sate: Assam\n",
      "Sate: West Bengal\n",
      "Sate: Maharastra\n",
      "Sate: Jharkhand\n"
     ]
    }
   ],
   "source": [
    "for state in states:\n",
    "    print(\"Sate: \" + state)"
   ]
  },
  {
   "cell_type": "code",
   "execution_count": 7,
   "metadata": {},
   "outputs": [
    {
     "name": "stdin",
     "output_type": "stream",
     "text": [
      "Enter the marks of each student? 70 80 90 45 05 60 12 09 50 62 04 46 26 1 56 98 6 5 32 65 \n"
     ]
    },
    {
     "name": "stdout",
     "output_type": "stream",
     "text": [
      "['70', '80', '90', '45', '05', '60', '12', '09', '50', '62', '04', '46', '26', '1', '56', '98', '6', '5', '32', '65']\n",
      "[70, 80, 90, 45, 5, 60, 12, 9, 50, 62, 4, 46, 26, 1, 56, 98, 6, 5, 32, 65]\n"
     ]
    }
   ],
   "source": [
    "marks = input(\"Enter the marks of each student?\").split()\n",
    "print(marks)\n",
    "for i in range(len(marks)):\n",
    "    marks[i] = int(marks[i])\n",
    "print(marks)"
   ]
  },
  {
   "cell_type": "code",
   "execution_count": 8,
   "metadata": {},
   "outputs": [
    {
     "name": "stdout",
     "output_type": "stream",
     "text": [
      "822\n"
     ]
    }
   ],
   "source": [
    "print(sum(marks))"
   ]
  },
  {
   "cell_type": "code",
   "execution_count": 9,
   "metadata": {},
   "outputs": [
    {
     "name": "stdout",
     "output_type": "stream",
     "text": [
      "41.1\n"
     ]
    }
   ],
   "source": [
    "print(sum(marks)/len(marks))"
   ]
  },
  {
   "cell_type": "code",
   "execution_count": 12,
   "metadata": {},
   "outputs": [
    {
     "name": "stdout",
     "output_type": "stream",
     "text": [
      "41\n"
     ]
    }
   ],
   "source": [
    "print(round(sum(marks)/len(marks)))"
   ]
  },
  {
   "cell_type": "code",
   "execution_count": 13,
   "metadata": {},
   "outputs": [
    {
     "name": "stdout",
     "output_type": "stream",
     "text": [
      "822\n"
     ]
    }
   ],
   "source": [
    "sum = 0\n",
    "for i in marks:\n",
    "    sum += i\n",
    "print(sum)"
   ]
  },
  {
   "cell_type": "code",
   "execution_count": 14,
   "metadata": {},
   "outputs": [
    {
     "name": "stdout",
     "output_type": "stream",
     "text": [
      "41.1\n"
     ]
    }
   ],
   "source": [
    "print(sum/len(marks))"
   ]
  },
  {
   "cell_type": "code",
   "execution_count": 15,
   "metadata": {},
   "outputs": [
    {
     "name": "stdout",
     "output_type": "stream",
     "text": [
      "41\n"
     ]
    }
   ],
   "source": [
    "print(round(sum/len(marks)))"
   ]
  },
  {
   "cell_type": "code",
   "execution_count": 16,
   "metadata": {},
   "outputs": [
    {
     "name": "stdout",
     "output_type": "stream",
     "text": [
      "98\n"
     ]
    }
   ],
   "source": [
    "highest_marks = 0\n",
    "for i in marks:\n",
    "    if i > highest_marks:\n",
    "        highest_marks = i\n",
    "print(highest_marks)"
   ]
  },
  {
   "cell_type": "code",
   "execution_count": 17,
   "metadata": {},
   "outputs": [
    {
     "name": "stdout",
     "output_type": "stream",
     "text": [
      "98\n"
     ]
    }
   ],
   "source": [
    "print(max(marks))"
   ]
  },
  {
   "cell_type": "code",
   "execution_count": 18,
   "metadata": {},
   "outputs": [
    {
     "name": "stdout",
     "output_type": "stream",
     "text": [
      "1\n"
     ]
    }
   ],
   "source": [
    "print(min(marks))"
   ]
  },
  {
   "cell_type": "code",
   "execution_count": 21,
   "metadata": {},
   "outputs": [
    {
     "name": "stdout",
     "output_type": "stream",
     "text": [
      "0, 2, 4, 6, 8, 10, 12, 14, 16, 18, 20, 22, 24, 26, 28, 30, 32, 34, 36, 38, 40, 42, 44, 46, 48, 50, 52, 54, 56, 58, 60, 62, 64, 66, 68, 70, 72, 74, 76, 78, 80, 82, 84, 86, 88, 90, 92, 94, 96, 98, 100, "
     ]
    }
   ],
   "source": [
    "for i in range(101):\n",
    "    if i % 2 == 0:\n",
    "        print(i,end=\", \")"
   ]
  },
  {
   "cell_type": "code",
   "execution_count": 22,
   "metadata": {},
   "outputs": [
    {
     "name": "stdout",
     "output_type": "stream",
     "text": [
      "51\n"
     ]
    }
   ],
   "source": [
    "count = 0\n",
    "for i in range(101):\n",
    "    if i % 2 == 0:\n",
    "        count += 1\n",
    "print(count)"
   ]
  },
  {
   "cell_type": "code",
   "execution_count": 23,
   "metadata": {},
   "outputs": [
    {
     "name": "stdout",
     "output_type": "stream",
     "text": [
      "50\n"
     ]
    }
   ],
   "source": [
    "count = 0\n",
    "for i in range(101):\n",
    "    if i % 2 != 0:\n",
    "        count += 1\n",
    "print(count)"
   ]
  },
  {
   "cell_type": "code",
   "execution_count": null,
   "metadata": {},
   "outputs": [],
   "source": []
  }
 ],
 "metadata": {
  "kernelspec": {
   "display_name": "Python 3",
   "language": "python",
   "name": "python3"
  },
  "language_info": {
   "codemirror_mode": {
    "name": "ipython",
    "version": 3
   },
   "file_extension": ".py",
   "mimetype": "text/x-python",
   "name": "python",
   "nbconvert_exporter": "python",
   "pygments_lexer": "ipython3",
   "version": "3.8.5"
  }
 },
 "nbformat": 4,
 "nbformat_minor": 4
}
